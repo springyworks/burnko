{
 "cells": [
  {
   "cell_type": "markdown",
   "id": "ab77a0c2",
   "metadata": {},
   "source": [
    "# Tensor Image Display Test\n",
    "\n",
    "This notebook tests the display of tensor-processed images in evcxr Jupyter notebook environment."
   ]
  },
  {
   "cell_type": "code",
   "execution_count": 3,
   "id": "f5eaee5c",
   "metadata": {
    "vscode": {
     "languageId": "rust"
    }
   },
   "outputs": [
    {
     "name": "stdout",
     "output_type": "stream",
     "text": [
      "✅ All dependencies loaded successfully!\n"
     ]
    }
   ],
   "source": [
    "// Import necessary crates\n",
    ":dep image = \"0.23\"\n",
    ":dep evcxr_image = \"1.1\"\n",
    ":dep burn = {path = \"../../crates/burn\"}\n",
    ":dep burn-ndarray = {path = \"../../crates/burn-ndarray\"}\n",
    ":dep burn-vision = {path = \"../../crates/burn-vision\", features = [\"export-tests\"]}\n",
    "\n",
    "use image::{DynamicImage, GenericImageView, ImageBuffer, Luma, Rgb};\n",
    "use evcxr_image::ImageDisplay;\n",
    "use burn_vision::tests::{load_test_image, save_test_image};\n",
    "use burn_ndarray::{NdArray, NdArrayDevice};\n",
    "use burn::tensor::Tensor;\n",
    "\n",
    "type Backend = NdArray<f32>;\n",
    "let device = NdArrayDevice::Cpu;\n",
    "\n",
    "println!(\"✅ All dependencies loaded successfully!\");"
   ]
  },
  {
   "cell_type": "code",
   "execution_count": 4,
   "id": "6e70e21d",
   "metadata": {
    "vscode": {
     "languageId": "rust"
    }
   },
   "outputs": [
    {
     "name": "stdout",
     "output_type": "stream",
     "text": [
      "Original image created (128x128)\n"
     ]
    },
    {
     "data": {
      "image/png": "[encoded data removed]"
     },
     "execution_count": 4,
     "metadata": {},
     "output_type": "execute_result"
    }
   ],
   "source": [
    "// Create a test image\n",
    "let original_img = image::ImageBuffer::<image::Rgb<u8>, _>::from_fn(128, 128, |x, y| {\n",
    "    let r = (x * 2) as u8;\n",
    "    let g = (y * 2) as u8;\n",
    "    let b = ((x + y) % 256) as u8;\n",
    "    image::Rgb([r, g, b])\n",
    "});\n",
    "\n",
    "println!(\"Original image created (128x128)\");\n",
    "original_img"
   ]
  },
  {
   "cell_type": "code",
   "execution_count": 6,
   "id": "d8e30317",
   "metadata": {
    "vscode": {
     "languageId": "rust"
    }
   },
   "outputs": [
    {
     "name": "stdout",
     "output_type": "stream",
     "text": [
      "Tensor shape: Shape { dims: [128, 128, 3] }\n",
      "✨ Brightened image:\n"
     ]
    },
    {
     "data": {
      "image/png": "[encoded data removed]"
     },
     "execution_count": 6,
     "metadata": {},
     "output_type": "execute_result"
    }
   ],
   "source": [
    "// Save and load as tensor\n",
    "original_img.save(\"/tmp/test_original.png\").unwrap();\n",
    "let tensor = load_test_image::<Backend>(\"/tmp/test_original.png\", &device, false);\n",
    "println!(\"Tensor shape: {:?}\", tensor.shape());\n",
    "\n",
    "// Apply brightness adjustment\n",
    "let tensor_chw = tensor.swap_dims(0, 2).swap_dims(1, 2); // Convert to [C, H, W]\n",
    "let brightened_tensor = (tensor_chw + 0.4).clamp(0.0, 1.0);\n",
    "let brightened_hwc = brightened_tensor.swap_dims(0, 2).swap_dims(0, 1); // Back to [H, W, C]\n",
    "\n",
    "// Save and display\n",
    "save_test_image(\"/tmp/brightened_test.png\", brightened_hwc, false);\n",
    "println!(\"✨ Brightened image:\");\n",
    "\n",
    "// Convert DynamicImage to ImageBuffer for proper display\n",
    "let dynamic_img = image::open(\"/tmp/brightened_test.png\").unwrap();\n",
    "let rgb_img = dynamic_img.to_rgb8();\n",
    "rgb_img"
   ]
  },
  {
   "cell_type": "code",
   "execution_count": 8,
   "id": "47704ebb",
   "metadata": {
    "vscode": {
     "languageId": "rust"
    }
   },
   "outputs": [
    {
     "name": "stdout",
     "output_type": "stream",
     "text": [
      "🎚️ Contrast enhanced image:\n"
     ]
    },
    {
     "data": {
      "image/png": "[encoded data removed]"
     },
     "execution_count": 8,
     "metadata": {},
     "output_type": "execute_result"
    }
   ],
   "source": [
    "// Test contrast enhancement\n",
    "// Reload the tensor since variables from previous cells are not in scope\n",
    "let tensor = load_test_image::<Backend>(\"/tmp/test_original.png\", &device, false);\n",
    "let tensor_chw = tensor.swap_dims(0, 2).swap_dims(1, 2); // Convert to [C, H, W]\n",
    "\n",
    "let contrast_tensor = ((tensor_chw - 0.5) * 2.0 + 0.5).clamp(0.0, 1.0);\n",
    "let contrast_hwc = contrast_tensor.swap_dims(0, 2).swap_dims(0, 1);\n",
    "\n",
    "save_test_image(\"/tmp/contrast_test.png\", contrast_hwc, false);\n",
    "println!(\"🎚️ Contrast enhanced image:\");\n",
    "\n",
    "// Convert DynamicImage to ImageBuffer for proper display\n",
    "let dynamic_img = image::open(\"/tmp/contrast_test.png\").unwrap();\n",
    "let rgb_img = dynamic_img.to_rgb8();\n",
    "rgb_img"
   ]
  },
  {
   "cell_type": "code",
   "execution_count": 9,
   "id": "abbe9666",
   "metadata": {
    "vscode": {
     "languageId": "rust"
    }
   },
   "outputs": [
    {
     "name": "stdout",
     "output_type": "stream",
     "text": [
      "🔄 BGR swapped image:\n"
     ]
    },
    {
     "data": {
      "image/png": "[encoded data removed]"
     },
     "execution_count": 9,
     "metadata": {},
     "output_type": "execute_result"
    }
   ],
   "source": [
    "// Test channel swapping (RGB to BGR)\n",
    "// Reload the tensor since variables from previous cells are not in scope\n",
    "let tensor = load_test_image::<Backend>(\"/tmp/test_original.png\", &device, false);\n",
    "let tensor_chw = tensor.swap_dims(0, 2).swap_dims(1, 2); // Convert to [C, H, W]\n",
    "\n",
    "let r_channel = tensor_chw.clone().narrow(0, 0, 1);\n",
    "let g_channel = tensor_chw.clone().narrow(0, 1, 1);\n",
    "let b_channel = tensor_chw.clone().narrow(0, 2, 1);\n",
    "let bgr_tensor = Tensor::cat(vec![b_channel, g_channel, r_channel], 0);\n",
    "let bgr_hwc = bgr_tensor.swap_dims(0, 2).swap_dims(0, 1);\n",
    "\n",
    "save_test_image(\"/tmp/bgr_test.png\", bgr_hwc, false);\n",
    "println!(\"🔄 BGR swapped image:\");\n",
    "\n",
    "// Convert DynamicImage to ImageBuffer for proper display\n",
    "let dynamic_img = image::open(\"/tmp/bgr_test.png\").unwrap();\n",
    "let rgb_img = dynamic_img.to_rgb8();\n",
    "rgb_img"
   ]
  },
  {
   "cell_type": "markdown",
   "id": "a2242db8",
   "metadata": {},
   "source": [
    "## Summary\n",
    "\n",
    "This test notebook demonstrates:\n",
    "1. ✅ Creating images programmatically\n",
    "2. ✅ Converting images to tensors \n",
    "3. ✅ Applying tensor operations (brightness, contrast, channel swapping)\n",
    "4. ✅ Converting back to images\n",
    "5. ✅ Displaying processed images in the notebook\n",
    "\n",
    "Each cell should show the processed image directly in the notebook output."
   ]
  }
 ],
 "metadata": {
  "kernelspec": {
   "display_name": "Rust",
   "language": "rust",
   "name": "rust"
  },
  "language_info": {
   "codemirror_mode": "rust",
   "file_extension": ".rs",
   "mimetype": "text/rust",
   "name": "Rust",
   "pygment_lexer": "rust",
   "version": ""
  }
 },
 "nbformat": 4,
 "nbformat_minor": 5
}
